{
 "cells": [
  {
   "cell_type": "code",
   "execution_count": 1,
   "metadata": {},
   "outputs": [
    {
     "name": "stdout",
     "output_type": "stream",
     "text": [
      "Drop Range:\n",
      "L: 0\n",
      "H: 4\n",
      "AVG: 2.0\n",
      "\n",
      "Spawn Rate:\n",
      "Per Tick: 6.902777777777778\n",
      "Per Swing: 69.02777777777777\n",
      "\n"
     ]
    }
   ],
   "source": [
    "from numba import njit\n",
    "import matplotlib.pyplot as plt\n",
    "import numpy as np\n",
    "\n",
    "@njit()\n",
    "def simulate_distribution(sums, rolls, drop_range):\n",
    "    totals = np.empty(sums)\n",
    "    for i in range(sums):\n",
    "        sum = 0\n",
    "        for j in range(rolls):\n",
    "            sum += np.random.randint(drop_range[0], drop_range[1]+1)\n",
    "        totals[i] = sum\n",
    "    return totals\n",
    "\n",
    "drop_range = (0, 4)\n",
    "drop_range_avg = (drop_range[0] + drop_range[1]) / 2\n",
    "\n",
    "swing_interval = 10\n",
    "spawn_rate_per_tick = 497000 / 72000\n",
    "spawn_rate_per_swing = spawn_rate_per_tick * swing_interval\n",
    "\n",
    "print(f\"Drop Range:\\nL: {drop_range[0]}\\nH: {drop_range[1]}\\nAVG: {drop_range_avg}\\n\")\n",
    "print(f\"Spawn Rate:\\nPer Tick: {spawn_rate_per_tick}\\nPer Swing: {spawn_rate_per_swing}\\n\")"
   ]
  },
  {
   "cell_type": "code",
   "execution_count": 2,
   "metadata": {},
   "outputs": [],
   "source": [
    "def compute_rates_loss_per_swings(swings, cart_intervals):\n",
    "    number_per_swing = int(np.ceil(spawn_rate_per_swing * swings))\n",
    "    expected_rates = number_per_swing * 2\n",
    "\n",
    "    sums = 1000000\n",
    "    totals = simulate_distribution(sums, number_per_swing, drop_range)\n",
    "\n",
    "    #print(totals_1)\n",
    "    print(f\"Expected Rates: {expected_rates} Median: {np.median(totals)} Mean: {np.mean(totals)} Std Dev: {np.std(totals)} Coef of Var: {np.std(totals)/np.mean(totals)}\")\n",
    "    #plt.hist(totals_1, bins=50)\n",
    "    #plt.show()\n",
    "    for cart_interval in cart_intervals:\n",
    "        rate_limit = 315 * (swing_interval/cart_interval) * swings\n",
    "        print(F\"Cart Interval: {cart_interval}\\nRate Limit: {rate_limit}\")\n",
    "\n",
    "        amount_passed = (totals <= rate_limit).sum()\n",
    "        pass_rate = amount_passed/sums\n",
    "        #print(amount_passed)\n",
    "        #print(pass_rate)\n",
    "\n",
    "        if amount_passed == sums:\n",
    "            swings_before_loss = np.inf\n",
    "        else:\n",
    "            swings_before_loss = np.log(0.5) / np.log(pass_rate)\n",
    "        print(f\"Expected swings before loss: {swings_before_loss}\\nExpected hours before loss: {swings_before_loss * 10 / 3600}\")\n",
    "    \n",
    "\n"
   ]
  },
  {
   "cell_type": "code",
   "execution_count": 3,
   "metadata": {},
   "outputs": [
    {
     "name": "stdout",
     "output_type": "stream",
     "text": [
      "Expected Rates: 140 Median: 140.0 Mean: 139.990869 Std Dev: 11.829168171297544 Coef of Var: 0.08449956954905069\n",
      "Cart Interval: 20\n",
      "Rate Limit: 157.5\n",
      "Expected swings before loss: 9.612280826180637\n",
      "Expected hours before loss: 0.02670078007272399\n",
      "Cart Interval: 16\n",
      "Rate Limit: 196.875\n",
      "Expected swings before loss: 346573.2437155396\n",
      "Expected hours before loss: 962.7034547653877\n",
      "Expected Rates: 278 Median: 278.0 Mean: 278.009967 Std Dev: 16.665149494046283 Coef of Var: 0.05994443175501791\n",
      "Cart Interval: 20\n",
      "Rate Limit: 315.0\n",
      "Expected swings before loss: 56.725357939367115\n",
      "Expected hours before loss: 0.1575704387204642\n",
      "Cart Interval: 16\n",
      "Rate Limit: 393.75\n",
      "Expected swings before loss: inf\n",
      "Expected hours before loss: inf\n",
      "Expected Rates: 554 Median: 554.0 Mean: 554.018937 Std Dev: 23.52217239946241 Coef of Var: 0.04245734365477548\n",
      "Cart Interval: 20\n",
      "Rate Limit: 630.0\n",
      "Expected swings before loss: 1222.1351935786183\n",
      "Expected hours before loss: 3.394819982162829\n",
      "Cart Interval: 16\n",
      "Rate Limit: 787.5\n",
      "Expected swings before loss: inf\n",
      "Expected hours before loss: inf\n",
      "Expected Rates: 1106 Median: 1106.0 Mean: 1106.038066 Std Dev: 33.284231686785915 Coef of Var: 0.030093206291858233\n",
      "Cart Interval: 20\n",
      "Rate Limit: 1260.0\n",
      "Expected swings before loss: 693146.8339663653\n",
      "Expected hours before loss: 1925.4078721287924\n",
      "Cart Interval: 16\n",
      "Rate Limit: 1575.0\n",
      "Expected swings before loss: inf\n",
      "Expected hours before loss: inf\n"
     ]
    }
   ],
   "source": [
    "compute_rates_loss_per_swings(1, [20, 16])\n",
    "compute_rates_loss_per_swings(2, [20, 16])\n",
    "compute_rates_loss_per_swings(4, [20, 16])\n",
    "compute_rates_loss_per_swings(8, [20, 16])"
   ]
  }
 ],
 "metadata": {
  "kernelspec": {
   "display_name": "Python 3",
   "language": "python",
   "name": "python3"
  },
  "language_info": {
   "codemirror_mode": {
    "name": "ipython",
    "version": 3
   },
   "file_extension": ".py",
   "mimetype": "text/x-python",
   "name": "python",
   "nbconvert_exporter": "python",
   "pygments_lexer": "ipython3",
   "version": "3.9.7"
  }
 },
 "nbformat": 4,
 "nbformat_minor": 2
}
