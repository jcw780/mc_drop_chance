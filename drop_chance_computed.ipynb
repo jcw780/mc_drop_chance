{
 "cells": [
  {
   "cell_type": "code",
   "execution_count": 3,
   "metadata": {},
   "outputs": [
    {
     "name": "stdout",
     "output_type": "stream",
     "text": [
      "139\n",
      "3600.0 0.012184609999494889 1.0 0.01570550628675658\n",
      "0.07611911403200644 274.0288105152232\n"
     ]
    },
    {
     "data": {
      "image/png": "[encoded data removed]",
      "text/plain": [
       "<Figure size 432x288 with 2 Axes>"
      ]
     },
     "metadata": {
      "needs_background": "light"
     },
     "output_type": "display_data"
    }
   ],
   "source": [
    "from itertools import product\n",
    "import numpy as np\n",
    "import matplotlib.pyplot as plt\n",
    "\n",
    "def discrete_uniform_sum_pmf(a: int, b: int, n: int):\n",
    "    final_size = (n * (b - a) + 1)\n",
    "    single_roll_chance = 1 / (b - a + 1)\n",
    "    du_sum_pmf = np.zeros(final_size)\n",
    "    du_sum_pmf[0] = 1\n",
    "\n",
    "    temp_du_sum_pmf = np.zeros(final_size)\n",
    "    for i in range(1, n+1):        \n",
    "        for j, dice in product(range((i-1) * (b - a) + 1), range(a, b+1)):\n",
    "            temp_du_sum_pmf[j + dice - a] += du_sum_pmf[j] * single_roll_chance\n",
    "        (du_sum_pmf, temp_du_sum_pmf) = (temp_du_sum_pmf, du_sum_pmf)\n",
    "        temp_du_sum_pmf[:i * (b - a)+1] = 0\n",
    "\n",
    "    all_counts = np.arange(a * n, len(du_sum_pmf))\n",
    "    return (all_counts, du_sum_pmf)\n",
    "\n",
    "spawn_rate_per_tick = 497000 / 72000 \n",
    "\n",
    "variance_factor = 1\n",
    "adjusted_spawn_rate_per_tick = spawn_rate_per_tick / variance_factor\n",
    "drop_range = (0, int(4 * variance_factor))\n",
    "interval = 20\n",
    "repeats = 1\n",
    "limit = 315*repeats\n",
    "\n",
    "spawns = int(np.ceil(adjusted_spawn_rate_per_tick * interval * repeats))\n",
    "print(spawns)\n",
    "\n",
    "all_counts, pmf = discrete_uniform_sum_pmf(drop_range[0], drop_range[1], spawns)\n",
    "cmf = np.cumsum(pmf)\n",
    "\n",
    "min_exceeded_index = limit - all_counts[0] + 1\n",
    "chance_loss = 0\n",
    "expected_loss = 0\n",
    "if min_exceeded_index < len(pmf):\n",
    "    chance_loss = 1 - cmf[min_exceeded_index-1]\n",
    "    expected_loss = ((all_counts[min_exceeded_index:]-limit) * pmf[min_exceeded_index:]).sum()\n",
    "\n",
    "sample_intervals_per_hour = (72000 / (interval * repeats))\n",
    "hourly_chance_loss = 1 - (1 - chance_loss) ** sample_intervals_per_hour\n",
    "expected_hours_before_loss = np.log(0.5) / np.log(1 - chance_loss) / sample_intervals_per_hour\n",
    "expected_loss_per_hr = expected_loss * sample_intervals_per_hour\n",
    "\n",
    "print(sample_intervals_per_hour, chance_loss, hourly_chance_loss, expected_hours_before_loss)\n",
    "print(expected_loss, expected_loss_per_hr)\n",
    "\n",
    "fig, ax1 = plt.subplots()\n",
    "ax1.set_xlim(0, 500)\n",
    "ax2 = ax1.twinx()\n",
    "\n",
    "ax1.plot(all_counts, pmf)\n",
    "ax2.plot(all_counts, cmf, color='orange')\n",
    "ax1.axvline(x=limit, color='red')\n",
    "ax1.axvline(x=2*spawn_rate_per_tick*interval*repeats, color='green')\n",
    "plt.show()\n",
    "\n",
    "\n"
   ]
  }
 ],
 "metadata": {
  "kernelspec": {
   "display_name": "Python 3",
   "language": "python",
   "name": "python3"
  },
  "language_info": {
   "codemirror_mode": {
    "name": "ipython",
    "version": 3
   },
   "file_extension": ".py",
   "mimetype": "text/x-python",
   "name": "python",
   "nbconvert_exporter": "python",
   "pygments_lexer": "ipython3",
   "version": "3.9.7"
  }
 },
 "nbformat": 4,
 "nbformat_minor": 2
}
